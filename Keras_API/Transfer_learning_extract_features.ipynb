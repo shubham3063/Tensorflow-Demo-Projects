{
  "nbformat": 4,
  "nbformat_minor": 0,
  "metadata": {
    "colab": {
      "name": "Transfer_learning_extract_features",
      "version": "0.3.2",
      "provenance": [],
      "include_colab_link": true
    },
    "kernelspec": {
      "name": "python3",
      "display_name": "Python 3"
    }
  },
  "cells": [
    {
      "cell_type": "markdown",
      "metadata": {
        "id": "view-in-github",
        "colab_type": "text"
      },
      "source": [
        "<a href=\"https://colab.research.google.com/github/shubham3063/tensorflow/blob/master/Keras_API/Transfer_learning_extract_features.ipynb\" target=\"_parent\"><img src=\"https://colab.research.google.com/assets/colab-badge.svg\" alt=\"Open In Colab\"/></a>"
      ]
    },
    {
      "cell_type": "code",
      "metadata": {
        "id": "0RTc08dS4cX1",
        "colab_type": "code",
        "colab": {
          "base_uri": "https://localhost:8080/",
          "height": 141
        },
        "outputId": "b286505d-3fc2-44a2-8d1d-2f91c3544639"
      },
      "source": [
        "import tensorflow as tf\n",
        "import numpy as np\n",
        "resnet50 = tf.keras.applications.resnet50.ResNet50(weights='imagenet',include_top=False) # load model without classifier\n",
        "x = tf.keras.preprocessing.image.load_img('elephant.jpeg',target_size=(224,224)) # load image\n",
        "x = tf.keras.preprocessing.image.img_to_array(x) # convert img to numpy array\n",
        "x = np.expand_dims(x, axis=0) # add a dimension\n",
        "x = tf.keras.applications.resnet50.preprocess_input(x) # preprocess image for input to resnet\n",
        "features = resnet50.predict(x) # get features\n",
        "print(features.shape)"
      ],
      "execution_count": 1,
      "outputs": [
        {
          "output_type": "stream",
          "text": [
            "WARNING:tensorflow:From /usr/local/lib/python3.6/dist-packages/tensorflow/python/ops/resource_variable_ops.py:435: colocate_with (from tensorflow.python.framework.ops) is deprecated and will be removed in a future version.\n",
            "Instructions for updating:\n",
            "Colocations handled automatically by placer.\n"
          ],
          "name": "stdout"
        },
        {
          "output_type": "stream",
          "text": [
            "/usr/local/lib/python3.6/dist-packages/keras_applications/resnet50.py:265: UserWarning: The output shape of `ResNet50(include_top=False)` has been changed since Keras 2.2.0.\n",
            "  warnings.warn('The output shape of `ResNet50(include_top=False)` '\n"
          ],
          "name": "stderr"
        },
        {
          "output_type": "stream",
          "text": [
            "(1, 7, 7, 2048)\n"
          ],
          "name": "stdout"
        }
      ]
    }
  ]
}